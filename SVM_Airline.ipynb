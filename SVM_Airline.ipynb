{
  "nbformat": 4,
  "nbformat_minor": 0,
  "metadata": {
    "colab": {
      "provenance": []
    },
    "kernelspec": {
      "name": "python3",
      "display_name": "Python 3"
    },
    "language_info": {
      "name": "python"
    }
  },
  "cells": [
    {
      "cell_type": "markdown",
      "source": [
        "#SVM Classifier with BOW Embeddings"
      ],
      "metadata": {
        "id": "dLUUm8h7PaO4"
      }
    },
    {
      "cell_type": "code",
      "source": [
        "from sklearn.model_selection import train_test_split\n",
        "from sklearn.svm import SVC\n",
        "from sklearn.metrics import accuracy_score\n",
        "import torch\n",
        "#allocates 80% of data for training and 20% for validation\n",
        "df_train, df_val = train_test_split(df, test_size=0.2, random_state=RANDOM_SEED)\n",
        "encoded_training_inputs= tokenizer(list(df_train['text']), padding=True, truncation=True, return_tensors='pt')\n",
        "encoded_validation_inputs = tokenizer(list(df_val['text']), padding=True, truncation=True, return_tensors='pt')\n",
        "# Get embeddings on training data\n",
        "with torch.no_grad():\n",
        "    output = bert_model(**encoded_training_inputs)\n",
        "\n",
        "last_hidden_state = output.last_hidden_state\n",
        "X_train_embeddings = last_hidden_state.mean(dim=1).squeeze().numpy()\n",
        "\n",
        "# Get embeddings on validation data\n",
        "with torch.no_grad():\n",
        "    output = bert_model(**encoded_validation_inputs)\n",
        "\n",
        "last_hidden_state = output.last_hidden_state\n",
        "X_val_embeddings = last_hidden_state.mean(dim=1).squeeze().numpy()\n",
        "#Assigns 0 to negative, 1 to neutral, and 2 to positive\n",
        "df_train['target'] = df_train.airline_sentiment.apply(sentiment_to_numeric)\n",
        "df_val['target'] = df_val.airline_sentiment.apply(sentiment_to_numeric)"
      ],
      "metadata": {
        "id": "kb2ur1iJwGV2"
      },
      "execution_count": null,
      "outputs": []
    },
    {
      "cell_type": "code",
      "source": [
        "RANDOM_SEED = 11"
      ],
      "metadata": {
        "id": "lQUPJAqIbxAy"
      },
      "execution_count": null,
      "outputs": []
    },
    {
      "cell_type": "code",
      "execution_count": null,
      "metadata": {
        "id": "6Dz5FzV3Fu61",
        "colab": {
          "base_uri": "https://localhost:8080/"
        },
        "outputId": "03f232ba-a5f4-4c1a-94da-d0775c7ac57d"
      },
      "outputs": [
        {
          "output_type": "stream",
          "name": "stderr",
          "text": [
            "[nltk_data] Downloading package stopwords to /root/nltk_data...\n",
            "[nltk_data]   Package stopwords is already up-to-date!\n",
            "[nltk_data] Downloading package punkt to /root/nltk_data...\n",
            "[nltk_data]   Package punkt is already up-to-date!\n",
            "[nltk_data] Downloading package wordnet to /root/nltk_data...\n",
            "[nltk_data]   Package wordnet is already up-to-date!\n"
          ]
        },
        {
          "output_type": "execute_result",
          "data": {
            "text/plain": [
              "True"
            ]
          },
          "metadata": {},
          "execution_count": 14
        }
      ],
      "source": [
        "import numpy as np\n",
        "import pandas as pd\n",
        "import nltk\n",
        "from nltk.corpus import stopwords\n",
        "import matplotlib.pyplot as plt\n",
        "from nltk.stem import WordNetLemmatizer\n",
        "from sklearn.feature_extraction.text import CountVectorizer\n",
        "import pickle\n",
        "import time\n",
        "import re\n",
        "from sklearn.model_selection import train_test_split\n",
        "from sklearn.svm import SVC\n",
        "from sklearn.metrics import accuracy_score\n",
        "import torch\n",
        "from sklearn.metrics import confusion_matrix, classification_report, recall_score, f1_score, accuracy_score, average_precision_score, precision_score\n",
        "import seaborn as sns\n",
        "\n",
        "nltk.download('stopwords')\n",
        "nltk.download('punkt')\n",
        "nltk.download('wordnet')\n"
      ]
    },
    {
      "cell_type": "code",
      "source": [
        "def show_confusion_matrix(confusion_matrix):\n",
        "  hmap = sns.heatmap(confusion_matrix, annot=True, fmt=\"d\", cmap=\"Blues\")\n",
        "  hmap.yaxis.set_ticklabels(hmap.yaxis.get_ticklabels(), rotation=0, ha='right')\n",
        "  hmap.xaxis.set_ticklabels(hmap.xaxis.get_ticklabels(), rotation=30, ha='right')\n",
        "  plt.ylabel('True sentiment')\n",
        "  plt.xlabel('Predicted sentiment');"
      ],
      "metadata": {
        "id": "LroVH7ewQSaz"
      },
      "execution_count": null,
      "outputs": []
    },
    {
      "cell_type": "code",
      "source": [
        "df = pd.read_csv('AirlineTweets.csv')[['tweet_id', 'airline_sentiment', 'text']]\n",
        "\n"
      ],
      "metadata": {
        "id": "fWnyF2WTbG4t"
      },
      "execution_count": null,
      "outputs": []
    },
    {
      "cell_type": "code",
      "source": [
        "cleanedData = []\n",
        "\n",
        "lemma = WordNetLemmatizer()\n",
        "swords = stopwords.words(\"english\")\n",
        "for text in df[\"text\"]:\n",
        "\n",
        "    # Cleaning links\n",
        "    text = re.sub(r'http\\S+', '', text)\n",
        "\n",
        "    # Cleaning everything except alphabetical and numerical characters\n",
        "    text = re.sub(\"[^a-zA-Z0-9]\",\" \",text)\n",
        "\n",
        "    # Tokenizing and lemmatizing\n",
        "    text = nltk.word_tokenize(text.lower())\n",
        "    text = [lemma.lemmatize(word) for word in text]\n",
        "\n",
        "    # Removing stopwords\n",
        "    text = [word for word in text if word not in swords]\n",
        "\n",
        "    # Joining\n",
        "    text = \" \".join(text)\n",
        "\n",
        "    cleanedData.append(text)"
      ],
      "metadata": {
        "id": "jQNukyz8eP3n"
      },
      "execution_count": null,
      "outputs": []
    },
    {
      "cell_type": "code",
      "source": [
        "\n",
        "sentiment_to_numeric = lambda sentiment: {'negative': 0, 'neutral': 1, 'positive': 2}.get(sentiment.lower(), -1)\n",
        "df[\"airline_sentiment\"].value_counts()\n",
        "df['target'] = df.airline_sentiment.apply(sentiment_to_numeric)"
      ],
      "metadata": {
        "id": "JS9Tt8fSbPim"
      },
      "execution_count": null,
      "outputs": []
    },
    {
      "cell_type": "code",
      "source": [
        "vectorizer = CountVectorizer(max_features=10000)\n",
        "BOW = vectorizer.fit_transform(cleanedData)"
      ],
      "metadata": {
        "id": "QDxs3BChgFh1"
      },
      "execution_count": null,
      "outputs": []
    },
    {
      "cell_type": "code",
      "source": [
        "from sklearn.model_selection import train_test_split\n",
        "x_train,x_test,y_train,y_test = train_test_split(BOW,np.asarray(df[\"target\"]))"
      ],
      "metadata": {
        "id": "JciznVKBgdnu"
      },
      "execution_count": null,
      "outputs": []
    },
    {
      "cell_type": "code",
      "source": [
        "from sklearn.svm import SVC\n",
        "start_time = time.time()\n",
        "\n",
        "model = SVC()\n",
        "model.fit(x_train,y_train)\n",
        "\n",
        "end_time = time.time()\n",
        "process_time = round(end_time-start_time,2)\n",
        "print(\"Fitting SVC took {} seconds\".format(process_time))"
      ],
      "metadata": {
        "colab": {
          "base_uri": "https://localhost:8080/"
        },
        "id": "dSe5XsxzhXal",
        "outputId": "af458ec5-070e-426c-c9c4-89450d78eedb"
      },
      "execution_count": null,
      "outputs": [
        {
          "output_type": "stream",
          "name": "stdout",
          "text": [
            "Fitting SVC took 20.31 seconds\n"
          ]
        }
      ]
    },
    {
      "cell_type": "code",
      "source": [
        "class_names = ['negative', 'neutral', 'positive']\n",
        "\n",
        "predictions = model.predict(x_test)\n",
        "print(classification_report(y_test, predictions, target_names=class_names))\n"
      ],
      "metadata": {
        "colab": {
          "base_uri": "https://localhost:8080/"
        },
        "id": "aM_aWHMvhhuX",
        "outputId": "b0d8a0ac-a8fc-4f34-d555-6a91c6005ef7"
      },
      "execution_count": null,
      "outputs": [
        {
          "output_type": "stream",
          "name": "stdout",
          "text": [
            "              precision    recall  f1-score   support\n",
            "\n",
            "    negative       0.79      0.93      0.85      2284\n",
            "     neutral       0.66      0.44      0.53       805\n",
            "    positive       0.75      0.57      0.65       571\n",
            "\n",
            "    accuracy                           0.77      3660\n",
            "   macro avg       0.74      0.65      0.68      3660\n",
            "weighted avg       0.76      0.77      0.75      3660\n",
            "\n"
          ]
        }
      ]
    },
    {
      "cell_type": "code",
      "source": [
        "cm = confusion_matrix(y_test, predictions)\n",
        "df_cm = pd.DataFrame(cm, index=class_names, columns=class_names)\n",
        "show_confusion_matrix(df_cm)"
      ],
      "metadata": {
        "colab": {
          "base_uri": "https://localhost:8080/",
          "height": 478
        },
        "id": "BmY7uIy2QbOy",
        "outputId": "042bca39-bae8-43d6-a7a0-88a95656c53f"
      },
      "execution_count": null,
      "outputs": [
        {
          "output_type": "display_data",
          "data": {
            "text/plain": [
              "<Figure size 640x480 with 2 Axes>"
            ],
            "image/png": "[encoded data removed]"
          },
          "metadata": {}
        }
      ]
    },
    {
      "cell_type": "code",
      "source": [
        "result_df = pd.DataFrame({'Prediction': predictions, 'Actual': y_test})\n",
        "result_df.to_csv('svm_predictions.csv')"
      ],
      "metadata": {
        "id": "3qHBbicWQ6J_"
      },
      "execution_count": null,
      "outputs": []
    },
    {
      "cell_type": "code",
      "source": [
        "positiveFD = nltk.FreqDist(word for text in df[df[\"airline_sentiment\"] == 2][\"text\"] for word in text.lower().split())\n",
        "negativeFD = nltk.FreqDist(word  for text in df[df[\"airline_sentiment\"] == 0][\"text\"] for word in text.lower().split())\n",
        "neutralDF = nltk.FreqDist(word  for text in df[df[\"airline_sentiment\"] == 1][\"text\"] for word in text.lower().split())"
      ],
      "metadata": {
        "id": "uxyZfiK7uNNG"
      },
      "execution_count": null,
      "outputs": []
    },
    {
      "cell_type": "code",
      "source": [
        "positiveFD"
      ],
      "metadata": {
        "colab": {
          "base_uri": "https://localhost:8080/"
        },
        "id": "jqOtvUFMuTv7",
        "outputId": "81ceb5d0-d1ae-41eb-8282-421d710f76c4"
      },
      "execution_count": null,
      "outputs": [
        {
          "output_type": "execute_result",
          "data": {
            "text/plain": [
              "FreqDist({})"
            ]
          },
          "metadata": {},
          "execution_count": 19
        }
      ]
    },
    {
      "cell_type": "code",
      "source": [
        "import pandas as pd\n",
        "from nltk.tokenize import word_tokenize\n",
        "from collections import Counter\n",
        "\n",
        "\n",
        "# Function to clean text\n",
        "def clean_text(text):\n",
        "    # Remove non-alphanumeric characters and symbols\n",
        "    cleaned_text = re.sub(r'[^A-Za-z\\s]', '', text)\n",
        "    return cleaned_text\n",
        "\n",
        "# Clean the text in the DataFrame\n",
        "df['text'] = df['text'].apply(clean_text)\n",
        "\n",
        "# Tokenize the tweets\n",
        "df['tokens'] = df['text'].apply(word_tokenize)\n",
        "\n",
        "# Remove stopwords\n",
        "stop_words = set(stopwords.words('english'))\n",
        "df['tokens'] = df['tokens'].apply(lambda x: [word for word in x if word.lower() not in stop_words])\n",
        "\n",
        "\n",
        "# Separate tweets into positive, negative, and neutral categories\n",
        "positive_tweets = df[df['target'] == 2]\n",
        "negative_tweets = df[df['target'] == 1]\n",
        "neutral_tweets = df[df['target'] == 0]\n",
        "\n",
        "# Count the frequency of words in each category\n",
        "positive_word_counts = Counter([word for tokens in positive_tweets['tokens'] for word in tokens])\n",
        "negative_word_counts = Counter([word for tokens in negative_tweets['tokens'] for word in tokens])\n",
        "neutral_word_counts = Counter([word for tokens in neutral_tweets['tokens'] for word in tokens])\n",
        "\n",
        "# Get the most frequent words in each category\n",
        "most_common_positive = positive_word_counts.most_common(50)\n",
        "most_common_negative = negative_word_counts.most_common(50)\n",
        "most_common_neutral = neutral_word_counts.most_common(50)\n",
        "\n",
        "# Get the most frequent words in each category as lists\n",
        "most_common_positive = [word for word, freq in positive_word_counts.most_common(50)]\n",
        "most_common_negative = [word for word, freq in negative_word_counts.most_common(50)]\n",
        "most_common_neutral = [word for word, freq in neutral_word_counts.most_common(50)]\n",
        "\n",
        "print(\"Most frequent words in positive tweets:\", most_common_positive)\n",
        "print(\"Most frequent words in negative tweets:\", most_common_negative)\n",
        "print(\"Most frequent words in neutral tweets:\", most_common_neutral)"
      ],
      "metadata": {
        "colab": {
          "base_uri": "https://localhost:8080/"
        },
        "id": "r_juPsLgvAEg",
        "outputId": "341f8509-ed7f-4775-b967-b5caed1b8118"
      },
      "execution_count": null,
      "outputs": [
        {
          "output_type": "stream",
          "name": "stdout",
          "text": [
            "Most frequent words in positive tweets: ['JetBlue', 'SouthwestAir', 'united', 'AmericanAir', 'flight', 'thanks', 'Thanks', 'USAirways', 'Thank', 'thank', 'great', 'service', 'VirginAmerica', 'get', 'customer', 'guys', 'much', 'love', 'time', 'good', 'got', 'today', 'best', 'help', 'amp', 'awesome', 'airline', 'us', 'Im', 'back', 'crew', 'amazing', 'flying', 'fly', 'flights', 'like', 'would', 'made', 'home', 'response', 'Great', 'know', 'gate', 'day', 'plane', 'see', 'work', 'Flight', 'appreciate', 'new']\n",
            "Most frequent words in negative tweets: ['JetBlue', 'united', 'SouthwestAir', 'flight', 'AmericanAir', 'USAirways', 'get', 'VirginAmerica', 'flights', 'help', 'need', 'please', 'Im', 'would', 'Thanks', 'Flight', 'DM', 'fleek', 'know', 'tomorrow', 'fleets', 'Cancelled', 'way', 'time', 'amp', 'change', 'back', 'one', 'like', 'number', 'fly', 'today', 'us', 'go', 'flying', 'see', 'email', 'got', 'check', 'make', 'ticket', 'travel', 'follow', 'United', 'AA', 'RT', 'dont', 'sent', 'weather', 'new']\n",
            "Most frequent words in neutral tweets: ['united', 'flight', 'USAirways', 'AmericanAir', 'SouthwestAir', 'JetBlue', 'get', 'Cancelled', 'service', 'hours', 'hold', 'Flight', 'time', 'customer', 'Im', 'plane', 'help', 'amp', 'delayed', 'Flightled', 'call', 'hour', 'cant', 'one', 'still', 'bag', 'flights', 'us', 'gate', 'Late', 'dont', 'back', 'phone', 'would', 'need', 'waiting', 'hrs', 'got', 'airline', 'like', 'Ive', 'minutes', 'wait', 'delay', 'trying', 'today', 'day', 'bags', 'going', 'luggage']\n"
          ]
        }
      ]
    }
  ]
}