{
  "nbformat": 4,
  "nbformat_minor": 0,
  "metadata": {
    "colab": {
      "provenance": [],
      "gpuType": "L4"
    },
    "kernelspec": {
      "name": "python3",
      "display_name": "Python 3"
    },
    "language_info": {
      "name": "python"
    },
    "accelerator": "GPU"
  },
  "cells": [
    {
      "cell_type": "markdown",
      "source": [
        "#Emotional Recognition on Twitter\n",
        "##Using Bertweet on Airline Dataset\n",
        "\n",
        "###Authored by Firoz Lakhani, Rohan Chaudary Mathew Forman\n",
        "\n",
        "\n",
        "code has been used and modified from the following sources\n",
        "\n",
        "\n",
        "https://github.com/pyhemza/BERTweet_sentiment_analysis\n",
        "\n",
        "https://www.kaggle.com/code/mehmetlaudatekman/text-classification-svm-explained\n"
      ],
      "metadata": {
        "id": "YtCwtwd48RX_"
      }
    },
    {
      "cell_type": "code",
      "source": [
        "#constant values to be used throughout\n",
        "RANDOM_SEED = 11\n",
        "PRE_TRAINED_MODEL_NAME = \"vinai/bertweet-base\"\n"
      ],
      "metadata": {
        "id": "eaTvPac9h_DT"
      },
      "execution_count": null,
      "outputs": []
    },
    {
      "cell_type": "code",
      "source": [
        "!pip3 install emoji\n",
        "!pip install transformers sentencepiece"
      ],
      "metadata": {
        "colab": {
          "base_uri": "https://localhost:8080/"
        },
        "id": "vKt-pjLhWqdK",
        "outputId": "e94ce2b6-a4cd-4b5f-a01c-60e57c505e39"
      },
      "execution_count": null,
      "outputs": [
        {
          "output_type": "stream",
          "name": "stdout",
          "text": [
            "Collecting emoji\n",
            "  Downloading emoji-2.11.0-py2.py3-none-any.whl (433 kB)\n",
            "\u001b[?25l     \u001b[90m━━━━━━━━━━━━━━━━━━━━━━━━━━━━━━━━━━━━━━━━\u001b[0m \u001b[32m0.0/433.8 kB\u001b[0m \u001b[31m?\u001b[0m eta \u001b[36m-:--:--\u001b[0m\r\u001b[2K     \u001b[91m━━━━━━━━━━━━━━━━━━━━━━━━\u001b[0m\u001b[91m╸\u001b[0m\u001b[90m━━━━━━━━━━━━━━━\u001b[0m \u001b[32m266.2/433.8 kB\u001b[0m \u001b[31m7.8 MB/s\u001b[0m eta \u001b[36m0:00:01\u001b[0m\r\u001b[2K     \u001b[90m━━━━━━━━━━━━━━━━━━━━━━━━━━━━━━━━━━━━━━━━\u001b[0m \u001b[32m433.8/433.8 kB\u001b[0m \u001b[31m7.7 MB/s\u001b[0m eta \u001b[36m0:00:00\u001b[0m\n",
            "\u001b[?25hInstalling collected packages: emoji\n",
            "Successfully installed emoji-2.11.0\n",
            "Requirement already satisfied: transformers in /usr/local/lib/python3.10/dist-packages (4.38.2)\n",
            "Requirement already satisfied: sentencepiece in /usr/local/lib/python3.10/dist-packages (0.1.99)\n",
            "Requirement already satisfied: filelock in /usr/local/lib/python3.10/dist-packages (from transformers) (3.13.4)\n",
            "Requirement already satisfied: huggingface-hub<1.0,>=0.19.3 in /usr/local/lib/python3.10/dist-packages (from transformers) (0.20.3)\n",
            "Requirement already satisfied: numpy>=1.17 in /usr/local/lib/python3.10/dist-packages (from transformers) (1.25.2)\n",
            "Requirement already satisfied: packaging>=20.0 in /usr/local/lib/python3.10/dist-packages (from transformers) (24.0)\n",
            "Requirement already satisfied: pyyaml>=5.1 in /usr/local/lib/python3.10/dist-packages (from transformers) (6.0.1)\n",
            "Requirement already satisfied: regex!=2019.12.17 in /usr/local/lib/python3.10/dist-packages (from transformers) (2023.12.25)\n",
            "Requirement already satisfied: requests in /usr/local/lib/python3.10/dist-packages (from transformers) (2.31.0)\n",
            "Requirement already satisfied: tokenizers<0.19,>=0.14 in /usr/local/lib/python3.10/dist-packages (from transformers) (0.15.2)\n",
            "Requirement already satisfied: safetensors>=0.4.1 in /usr/local/lib/python3.10/dist-packages (from transformers) (0.4.2)\n",
            "Requirement already satisfied: tqdm>=4.27 in /usr/local/lib/python3.10/dist-packages (from transformers) (4.66.2)\n",
            "Requirement already satisfied: fsspec>=2023.5.0 in /usr/local/lib/python3.10/dist-packages (from huggingface-hub<1.0,>=0.19.3->transformers) (2023.6.0)\n",
            "Requirement already satisfied: typing-extensions>=3.7.4.3 in /usr/local/lib/python3.10/dist-packages (from huggingface-hub<1.0,>=0.19.3->transformers) (4.11.0)\n",
            "Requirement already satisfied: charset-normalizer<4,>=2 in /usr/local/lib/python3.10/dist-packages (from requests->transformers) (3.3.2)\n",
            "Requirement already satisfied: idna<4,>=2.5 in /usr/local/lib/python3.10/dist-packages (from requests->transformers) (3.6)\n",
            "Requirement already satisfied: urllib3<3,>=1.21.1 in /usr/local/lib/python3.10/dist-packages (from requests->transformers) (2.0.7)\n",
            "Requirement already satisfied: certifi>=2017.4.17 in /usr/local/lib/python3.10/dist-packages (from requests->transformers) (2024.2.2)\n"
          ]
        }
      ]
    },
    {
      "cell_type": "code",
      "source": [
        "import transformers\n",
        "import torch\n",
        "import numpy as np\n",
        "import pandas as pd\n",
        "import seaborn as sns\n",
        "from pylab import rcParams\n",
        "import matplotlib.pyplot as plt\n",
        "from matplotlib import rc\n",
        "from sklearn.model_selection import train_test_split\n",
        "from sklearn.metrics import confusion_matrix, classification_report, recall_score, f1_score, accuracy_score, average_precision_score, precision_score\n",
        "from collections import defaultdict\n",
        "from textwrap import wrap\n",
        "from torch import nn, optim\n",
        "from torch.utils.data import Dataset, DataLoader\n",
        "from transformers import AutoTokenizer, AutoModel\n",
        "import matplotlib.pyplot as plt\n",
        "\n",
        "#initialize dataset, model, and tokenizer\n",
        "\n",
        "\n",
        "\n",
        "df = pd.read_csv('weather.csv')[['_unit_id','what_emotion_does_the_author_express_specifically_about_the_weather', 'tweet_text']]\n",
        "df.columns = ['id', 'sentiment', 'text']\n",
        "\n",
        "df = df[df['sentiment'].isin(['Positive', 'Negative' ,'Neutral / author is just sharing information'])]\n",
        "\n",
        "#data is split by 80% training and 20% validation\n",
        "df_train, df_val = train_test_split(df, test_size=0.2, random_state=RANDOM_SEED)\n",
        "\n",
        "#lambda function assigns a numerical value to each sentiment\n",
        "sentiment_to_numeric = lambda sentiment: {'negative': 0, 'positive': 2}.get(sentiment.lower(), 1)\n",
        "\n",
        "tokenizer = AutoTokenizer.from_pretrained(PRE_TRAINED_MODEL_NAME)\n",
        "bert_model = AutoModel.from_pretrained(PRE_TRAINED_MODEL_NAME)\n",
        "device = torch.device(\"cuda:0\" if torch.cuda.is_available() else \"cpu\")\n"
      ],
      "metadata": {
        "id": "xWAGmsHGhzGh"
      },
      "execution_count": null,
      "outputs": []
    },
    {
      "cell_type": "code",
      "source": [
        "# Get the frequency of each unique value in column 1\n",
        "#Assigns 0 to negative, 1 to neutral, and 2 to positive\n",
        "df_train['target'] = df_train.sentiment.apply(sentiment_to_numeric)\n",
        "df_val['target'] = df_val.sentiment.apply(sentiment_to_numeric)\n",
        "df_train.head()"
      ],
      "metadata": {
        "colab": {
          "base_uri": "https://localhost:8080/",
          "height": 206
        },
        "id": "_DKCINCMiXEI",
        "outputId": "0f02b321-db8d-4240-baf9-4f613a3c1ef3"
      },
      "execution_count": null,
      "outputs": [
        {
          "output_type": "execute_result",
          "data": {
            "text/plain": [
              "            id                                     sentiment  \\\n",
              "231  314960611                                      Negative   \n",
              "90   314960470                                      Negative   \n",
              "328  314960708                                      Positive   \n",
              "266  314960646                                      Negative   \n",
              "417  314960797  Neutral / author is just sharing information   \n",
              "\n",
              "                                                  text  target  \n",
              "231         Looks like rain. For ever. #weather {link}       0  \n",
              "90                             Mad windy for no reason       0  \n",
              "328  Today's weather is simply *perfect*. Rowan's s...       2  \n",
              "266                   RT @mention: My room is freezing       0  \n",
              "417  #WEATHER:  1:56 am : 66.0F. Feels F. 30.09% Hu...       1  "
            ],
            "text/html": [
              "\n",
              "  <div id=\"df-11fbb9cc-3448-4c82-b54b-d115e1b03855\" class=\"colab-df-container\">\n",
              "    <div>\n",
              "<style scoped>\n",
              "    .dataframe tbody tr th:only-of-type {\n",
              "        vertical-align: middle;\n",
              "    }\n",
              "\n",
              "    .dataframe tbody tr th {\n",
              "        vertical-align: top;\n",
              "    }\n",
              "\n",
              "    .dataframe thead th {\n",
              "        text-align: right;\n",
              "    }\n",
              "</style>\n",
              "<table border=\"1\" class=\"dataframe\">\n",
              "  <thead>\n",
              "    <tr style=\"text-align: right;\">\n",
              "      <th></th>\n",
              "      <th>id</th>\n",
              "      <th>sentiment</th>\n",
              "      <th>text</th>\n",
              "      <th>target</th>\n",
              "    </tr>\n",
              "  </thead>\n",
              "  <tbody>\n",
              "    <tr>\n",
              "      <th>231</th>\n",
              "      <td>314960611</td>\n",
              "      <td>Negative</td>\n",
              "      <td>Looks like rain. For ever. #weather {link}</td>\n",
              "      <td>0</td>\n",
              "    </tr>\n",
              "    <tr>\n",
              "      <th>90</th>\n",
              "      <td>314960470</td>\n",
              "      <td>Negative</td>\n",
              "      <td>Mad windy for no reason</td>\n",
              "      <td>0</td>\n",
              "    </tr>\n",
              "    <tr>\n",
              "      <th>328</th>\n",
              "      <td>314960708</td>\n",
              "      <td>Positive</td>\n",
              "      <td>Today's weather is simply *perfect*. Rowan's s...</td>\n",
              "      <td>2</td>\n",
              "    </tr>\n",
              "    <tr>\n",
              "      <th>266</th>\n",
              "      <td>314960646</td>\n",
              "      <td>Negative</td>\n",
              "      <td>RT @mention: My room is freezing</td>\n",
              "      <td>0</td>\n",
              "    </tr>\n",
              "    <tr>\n",
              "      <th>417</th>\n",
              "      <td>314960797</td>\n",
              "      <td>Neutral / author is just sharing information</td>\n",
              "      <td>#WEATHER:  1:56 am : 66.0F. Feels F. 30.09% Hu...</td>\n",
              "      <td>1</td>\n",
              "    </tr>\n",
              "  </tbody>\n",
              "</table>\n",
              "</div>\n",
              "    <div class=\"colab-df-buttons\">\n",
              "\n",
              "  <div class=\"colab-df-container\">\n",
              "    <button class=\"colab-df-convert\" onclick=\"convertToInteractive('df-11fbb9cc-3448-4c82-b54b-d115e1b03855')\"\n",
              "            title=\"Convert this dataframe to an interactive table.\"\n",
              "            style=\"display:none;\">\n",
              "\n",
              "  <svg xmlns=\"http://www.w3.org/2000/svg\" height=\"24px\" viewBox=\"0 -960 960 960\">\n",
              "    <path d=\"M120-120v-720h720v720H120Zm60-500h600v-160H180v160Zm220 220h160v-160H400v160Zm0 220h160v-160H400v160ZM180-400h160v-160H180v160Zm440 0h160v-160H620v160ZM180-180h160v-160H180v160Zm440 0h160v-160H620v160Z\"/>\n",
              "  </svg>\n",
              "    </button>\n",
              "\n",
              "  <style>\n",
              "    .colab-df-container {\n",
              "      display:flex;\n",
              "      gap: 12px;\n",
              "    }\n",
              "\n",
              "    .colab-df-convert {\n",
              "      background-color: #E8F0FE;\n",
              "      border: none;\n",
              "      border-radius: 50%;\n",
              "      cursor: pointer;\n",
              "      display: none;\n",
              "      fill: #1967D2;\n",
              "      height: 32px;\n",
              "      padding: 0 0 0 0;\n",
              "      width: 32px;\n",
              "    }\n",
              "\n",
              "    .colab-df-convert:hover {\n",
              "      background-color: #E2EBFA;\n",
              "      box-shadow: 0px 1px 2px rgba(60, 64, 67, 0.3), 0px 1px 3px 1px rgba(60, 64, 67, 0.15);\n",
              "      fill: #174EA6;\n",
              "    }\n",
              "\n",
              "    .colab-df-buttons div {\n",
              "      margin-bottom: 4px;\n",
              "    }\n",
              "\n",
              "    [theme=dark] .colab-df-convert {\n",
              "      background-color: #3B4455;\n",
              "      fill: #D2E3FC;\n",
              "    }\n",
              "\n",
              "    [theme=dark] .colab-df-convert:hover {\n",
              "      background-color: #434B5C;\n",
              "      box-shadow: 0px 1px 3px 1px rgba(0, 0, 0, 0.15);\n",
              "      filter: drop-shadow(0px 1px 2px rgba(0, 0, 0, 0.3));\n",
              "      fill: #FFFFFF;\n",
              "    }\n",
              "  </style>\n",
              "\n",
              "    <script>\n",
              "      const buttonEl =\n",
              "        document.querySelector('#df-11fbb9cc-3448-4c82-b54b-d115e1b03855 button.colab-df-convert');\n",
              "      buttonEl.style.display =\n",
              "        google.colab.kernel.accessAllowed ? 'block' : 'none';\n",
              "\n",
              "      async function convertToInteractive(key) {\n",
              "        const element = document.querySelector('#df-11fbb9cc-3448-4c82-b54b-d115e1b03855');\n",
              "        const dataTable =\n",
              "          await google.colab.kernel.invokeFunction('convertToInteractive',\n",
              "                                                    [key], {});\n",
              "        if (!dataTable) return;\n",
              "\n",
              "        const docLinkHtml = 'Like what you see? Visit the ' +\n",
              "          '<a target=\"_blank\" href=https://colab.research.google.com/notebooks/data_table.ipynb>data table notebook</a>'\n",
              "          + ' to learn more about interactive tables.';\n",
              "        element.innerHTML = '';\n",
              "        dataTable['output_type'] = 'display_data';\n",
              "        await google.colab.output.renderOutput(dataTable, element);\n",
              "        const docLink = document.createElement('div');\n",
              "        docLink.innerHTML = docLinkHtml;\n",
              "        element.appendChild(docLink);\n",
              "      }\n",
              "    </script>\n",
              "  </div>\n",
              "\n",
              "\n",
              "<div id=\"df-73797d9b-cd08-4b25-87d9-a226b201191f\">\n",
              "  <button class=\"colab-df-quickchart\" onclick=\"quickchart('df-73797d9b-cd08-4b25-87d9-a226b201191f')\"\n",
              "            title=\"Suggest charts\"\n",
              "            style=\"display:none;\">\n",
              "\n",
              "<svg xmlns=\"http://www.w3.org/2000/svg\" height=\"24px\"viewBox=\"0 0 24 24\"\n",
              "     width=\"24px\">\n",
              "    <g>\n",
              "        <path d=\"M19 3H5c-1.1 0-2 .9-2 2v14c0 1.1.9 2 2 2h14c1.1 0 2-.9 2-2V5c0-1.1-.9-2-2-2zM9 17H7v-7h2v7zm4 0h-2V7h2v10zm4 0h-2v-4h2v4z\"/>\n",
              "    </g>\n",
              "</svg>\n",
              "  </button>\n",
              "\n",
              "<style>\n",
              "  .colab-df-quickchart {\n",
              "      --bg-color: #E8F0FE;\n",
              "      --fill-color: #1967D2;\n",
              "      --hover-bg-color: #E2EBFA;\n",
              "      --hover-fill-color: #174EA6;\n",
              "      --disabled-fill-color: #AAA;\n",
              "      --disabled-bg-color: #DDD;\n",
              "  }\n",
              "\n",
              "  [theme=dark] .colab-df-quickchart {\n",
              "      --bg-color: #3B4455;\n",
              "      --fill-color: #D2E3FC;\n",
              "      --hover-bg-color: #434B5C;\n",
              "      --hover-fill-color: #FFFFFF;\n",
              "      --disabled-bg-color: #3B4455;\n",
              "      --disabled-fill-color: #666;\n",
              "  }\n",
              "\n",
              "  .colab-df-quickchart {\n",
              "    background-color: var(--bg-color);\n",
              "    border: none;\n",
              "    border-radius: 50%;\n",
              "    cursor: pointer;\n",
              "    display: none;\n",
              "    fill: var(--fill-color);\n",
              "    height: 32px;\n",
              "    padding: 0;\n",
              "    width: 32px;\n",
              "  }\n",
              "\n",
              "  .colab-df-quickchart:hover {\n",
              "    background-color: var(--hover-bg-color);\n",
              "    box-shadow: 0 1px 2px rgba(60, 64, 67, 0.3), 0 1px 3px 1px rgba(60, 64, 67, 0.15);\n",
              "    fill: var(--button-hover-fill-color);\n",
              "  }\n",
              "\n",
              "  .colab-df-quickchart-complete:disabled,\n",
              "  .colab-df-quickchart-complete:disabled:hover {\n",
              "    background-color: var(--disabled-bg-color);\n",
              "    fill: var(--disabled-fill-color);\n",
              "    box-shadow: none;\n",
              "  }\n",
              "\n",
              "  .colab-df-spinner {\n",
              "    border: 2px solid var(--fill-color);\n",
              "    border-color: transparent;\n",
              "    border-bottom-color: var(--fill-color);\n",
              "    animation:\n",
              "      spin 1s steps(1) infinite;\n",
              "  }\n",
              "\n",
              "  @keyframes spin {\n",
              "    0% {\n",
              "      border-color: transparent;\n",
              "      border-bottom-color: var(--fill-color);\n",
              "      border-left-color: var(--fill-color);\n",
              "    }\n",
              "    20% {\n",
              "      border-color: transparent;\n",
              "      border-left-color: var(--fill-color);\n",
              "      border-top-color: var(--fill-color);\n",
              "    }\n",
              "    30% {\n",
              "      border-color: transparent;\n",
              "      border-left-color: var(--fill-color);\n",
              "      border-top-color: var(--fill-color);\n",
              "      border-right-color: var(--fill-color);\n",
              "    }\n",
              "    40% {\n",
              "      border-color: transparent;\n",
              "      border-right-color: var(--fill-color);\n",
              "      border-top-color: var(--fill-color);\n",
              "    }\n",
              "    60% {\n",
              "      border-color: transparent;\n",
              "      border-right-color: var(--fill-color);\n",
              "    }\n",
              "    80% {\n",
              "      border-color: transparent;\n",
              "      border-right-color: var(--fill-color);\n",
              "      border-bottom-color: var(--fill-color);\n",
              "    }\n",
              "    90% {\n",
              "      border-color: transparent;\n",
              "      border-bottom-color: var(--fill-color);\n",
              "    }\n",
              "  }\n",
              "</style>\n",
              "\n",
              "  <script>\n",
              "    async function quickchart(key) {\n",
              "      const quickchartButtonEl =\n",
              "        document.querySelector('#' + key + ' button');\n",
              "      quickchartButtonEl.disabled = true;  // To prevent multiple clicks.\n",
              "      quickchartButtonEl.classList.add('colab-df-spinner');\n",
              "      try {\n",
              "        const charts = await google.colab.kernel.invokeFunction(\n",
              "            'suggestCharts', [key], {});\n",
              "      } catch (error) {\n",
              "        console.error('Error during call to suggestCharts:', error);\n",
              "      }\n",
              "      quickchartButtonEl.classList.remove('colab-df-spinner');\n",
              "      quickchartButtonEl.classList.add('colab-df-quickchart-complete');\n",
              "    }\n",
              "    (() => {\n",
              "      let quickchartButtonEl =\n",
              "        document.querySelector('#df-73797d9b-cd08-4b25-87d9-a226b201191f button');\n",
              "      quickchartButtonEl.style.display =\n",
              "        google.colab.kernel.accessAllowed ? 'block' : 'none';\n",
              "    })();\n",
              "  </script>\n",
              "</div>\n",
              "\n",
              "    </div>\n",
              "  </div>\n"
            ],
            "application/vnd.google.colaboratory.intrinsic+json": {
              "type": "dataframe",
              "variable_name": "df_train",
              "summary": "{\n  \"name\": \"df_train\",\n  \"rows\": 610,\n  \"fields\": [\n    {\n      \"column\": \"id\",\n      \"properties\": {\n        \"dtype\": \"number\",\n        \"std\": 292,\n        \"min\": 314960380,\n        \"max\": 314961378,\n        \"num_unique_values\": 610,\n        \"samples\": [\n          314960994,\n          314961358,\n          314960384\n        ],\n        \"semantic_type\": \"\",\n        \"description\": \"\"\n      }\n    },\n    {\n      \"column\": \"sentiment\",\n      \"properties\": {\n        \"dtype\": \"category\",\n        \"num_unique_values\": 3,\n        \"samples\": [\n          \"Negative\",\n          \"Positive\",\n          \"Neutral / author is just sharing information\"\n        ],\n        \"semantic_type\": \"\",\n        \"description\": \"\"\n      }\n    },\n    {\n      \"column\": \"text\",\n      \"properties\": {\n        \"dtype\": \"string\",\n        \"num_unique_values\": 609,\n        \"samples\": [\n          \"Ughhhhhh its so damn hot outside\",\n          \"@mention We've had a lovely weather all week. It started turning today. Now, it's just weird!\",\n          \"It is hot out here but it feels great\"\n        ],\n        \"semantic_type\": \"\",\n        \"description\": \"\"\n      }\n    },\n    {\n      \"column\": \"target\",\n      \"properties\": {\n        \"dtype\": \"number\",\n        \"std\": 0,\n        \"min\": 0,\n        \"max\": 2,\n        \"num_unique_values\": 3,\n        \"samples\": [\n          0,\n          2,\n          1\n        ],\n        \"semantic_type\": \"\",\n        \"description\": \"\"\n      }\n    }\n  ]\n}"
            }
          },
          "metadata": {},
          "execution_count": 53
        }
      ]
    },
    {
      "cell_type": "markdown",
      "source": [
        "###Helper Functions and Classes"
      ],
      "metadata": {
        "id": "GyQCwBqdB7qy"
      }
    },
    {
      "cell_type": "code",
      "source": [
        "#used for initializing a dataset object in pytorch\n",
        "class TweetDataset(Dataset):\n",
        "\n",
        "  def __init__(self, tweets, targets, tokenizer, max_len):\n",
        "    self.tweets = tweets\n",
        "    self.targets = targets\n",
        "    self.tokenizer = tokenizer\n",
        "    self.max_len = max_len\n",
        "\n",
        "  def __len__(self):\n",
        "    return len(self.tweets)\n",
        "\n",
        "  def __getitem__(self, item):\n",
        "    tweet = str(self.tweets[item])\n",
        "    target = self.targets[item]\n",
        "\n",
        "    encoding = self.tokenizer.encode_plus(\n",
        "      tweet,\n",
        "      add_special_tokens=True,\n",
        "      max_length=self.max_len,\n",
        "      truncation= True,\n",
        "      return_token_type_ids=False,\n",
        "      padding = 'max_length',\n",
        "      return_attention_mask=True,\n",
        "      return_tensors='pt',\n",
        "    )\n",
        "\n",
        "    return {\n",
        "      'tweet_text': tweet,\n",
        "      'input_ids': encoding['input_ids'].flatten(),\n",
        "      'attention_mask': encoding['attention_mask'].flatten(),\n",
        "      'targets': torch.tensor(target, dtype=torch.long)\n",
        "    }"
      ],
      "metadata": {
        "id": "XSVxQtaUwClI"
      },
      "execution_count": null,
      "outputs": []
    },
    {
      "cell_type": "code",
      "source": [
        "#function is used for every epoch in training the model on dataset batches\n",
        "#model updates parameters after every epoch and improves\n",
        "def train_epoch(model, data_loader, loss_fn, optimizer,  device, n_examples):\n",
        "  model = model.train()\n",
        "\n",
        "  losses = []\n",
        "  correct_predictions = 0\n",
        "\n",
        "  #loads data batches from data loader and runs it through the model each time\n",
        "  for d in data_loader:\n",
        "    input_ids = d[\"input_ids\"].to(device)\n",
        "    attention_mask = d[\"attention_mask\"].to(device)\n",
        "    targets = d[\"targets\"].to(device)\n",
        "\n",
        "    outputs = model(\n",
        "      input_ids=input_ids,\n",
        "      attention_mask=attention_mask\n",
        "    )\n",
        "\n",
        "    #returns model predictions\n",
        "    _, preds = torch.max(outputs, dim=1)\n",
        "    loss = loss_fn(outputs, targets)\n",
        "\n",
        "    correct_predictions += torch.sum(preds == targets)\n",
        "    losses.append(loss.item())\n",
        "\n",
        "    #optimizes for the next step\n",
        "    loss.backward()\n",
        "    optimizer.step()\n",
        "    optimizer.zero_grad()\n",
        "\n",
        "  #returns accuracy and average loss\n",
        "  return correct_predictions.double() / n_examples, np.mean(losses)\n"
      ],
      "metadata": {
        "id": "XRP1yEJ-wpAc"
      },
      "execution_count": null,
      "outputs": []
    },
    {
      "cell_type": "code",
      "source": [
        "#when model parameters are identified, the model is evaluated\n",
        "def eval_model(model, data_loader, loss_fn, device, n_examples):\n",
        "\n",
        "  model = model.eval()\n",
        "\n",
        "  losses = []\n",
        "  correct_predictions = 0\n",
        "\n",
        "  # runs through each batch in the dataset and evalulates the model\n",
        "  with torch.no_grad():\n",
        "    for d in data_loader:\n",
        "      input_ids = d[\"input_ids\"].to(device)\n",
        "      attention_mask = d[\"attention_mask\"].to(device)\n",
        "      targets = d[\"targets\"].to(device)\n",
        "\n",
        "      outputs = model(\n",
        "        input_ids=input_ids,\n",
        "        attention_mask=attention_mask\n",
        "      )\n",
        "\n",
        "      #get predictions and error\n",
        "      _, preds = torch.max(outputs, dim=1)\n",
        "\n",
        "      loss = loss_fn(outputs, targets)\n",
        "\n",
        "      correct_predictions += torch.sum(preds == targets)\n",
        "      losses.append(loss.item())\n",
        "  #returns accuracy and average loss\n",
        "  return correct_predictions.double() / n_examples, np.mean(losses)"
      ],
      "metadata": {
        "id": "Vo2a2Q57ZLvW"
      },
      "execution_count": null,
      "outputs": []
    },
    {
      "cell_type": "code",
      "source": [
        "#initializes our bert model which is used for classification\n",
        "class SentimentClassifier(nn.Module):\n",
        "\n",
        "  def __init__(self, n_classes):\n",
        "    super(SentimentClassifier, self).__init__()\n",
        "    self.bert = bert_model.from_pretrained(PRE_TRAINED_MODEL_NAME)\n",
        "    self.out = nn.Linear(self.bert.config.hidden_size, n_classes)\n",
        "\n",
        "  def forward(self, input_ids, attention_mask):\n",
        "    _, pooled_output = self.bert(\n",
        "      input_ids=input_ids,\n",
        "      attention_mask=attention_mask,\n",
        "      return_dict=False\n",
        "    )\n",
        "    output = pooled_output\n",
        "    return self.out(output)"
      ],
      "metadata": {
        "id": "vydI6zgaUfVy"
      },
      "execution_count": null,
      "outputs": []
    },
    {
      "cell_type": "code",
      "source": [
        "#returns prediction data for visualization purposes\n",
        "def get_predictions(model, data_loader):\n",
        "  model = model.eval()\n",
        "\n",
        "\n",
        "  tweets_content = [] #stores contents of tweets\n",
        "  predictions = []#stores model predictions\n",
        "  prediction_probs = []#stores prediction probabilities\n",
        "  real_values = []#stores actual values\n",
        "\n",
        "  #gets data from tensor objects and stores them\n",
        "  with torch.no_grad():\n",
        "    for d in data_loader:\n",
        "\n",
        "      texts = d[\"tweet_text\"]\n",
        "      input_ids = d[\"input_ids\"].to(device)\n",
        "      attention_mask = d[\"attention_mask\"].to(device)\n",
        "      targets = d[\"targets\"].to(device)\n",
        "\n",
        "      outputs = model(\n",
        "        input_ids=input_ids,\n",
        "        attention_mask=attention_mask\n",
        "      )\n",
        "\n",
        "      _, preds = torch.max(outputs, dim=1)\n",
        "\n",
        "      probs = nn.functional.softmax(outputs, dim=1)\n",
        "\n",
        "      tweets_content.extend(texts)\n",
        "      predictions.extend(preds)\n",
        "      prediction_probs.extend(probs)\n",
        "      real_values.extend(targets)\n",
        "\n",
        "  predictions = torch.stack(predictions).cpu()\n",
        "  prediction_probs = torch.stack(prediction_probs).cpu()\n",
        "  real_values = torch.stack(real_values).cpu()\n",
        "  return tweets_content, predictions, prediction_probs, real_values"
      ],
      "metadata": {
        "id": "LEMXDYb5r-Nd"
      },
      "execution_count": null,
      "outputs": []
    },
    {
      "cell_type": "code",
      "source": [
        "def show_confusion_matrix(confusion_matrix):\n",
        "  hmap = sns.heatmap(confusion_matrix, annot=True, fmt=\"d\", cmap=\"Blues\")\n",
        "  hmap.yaxis.set_ticklabels(hmap.yaxis.get_ticklabels(), rotation=0, ha='right')\n",
        "  hmap.xaxis.set_ticklabels(hmap.xaxis.get_ticklabels(), rotation=30, ha='right')\n",
        "  plt.ylabel('True sentiment')\n",
        "  plt.xlabel('Predicted sentiment');"
      ],
      "metadata": {
        "id": "3CKroD81ss8b"
      },
      "execution_count": null,
      "outputs": []
    },
    {
      "cell_type": "markdown",
      "source": [
        "###Model Training process"
      ],
      "metadata": {
        "id": "ym-b0ReBGptn"
      }
    },
    {
      "cell_type": "code",
      "source": [
        "BATCH_SIZE = 32\n",
        "MAX_LEN = 104"
      ],
      "metadata": {
        "id": "1tgYvpzOoUTo"
      },
      "execution_count": null,
      "outputs": []
    },
    {
      "cell_type": "markdown",
      "source": [],
      "metadata": {
        "id": "LxeT2a3goSBO"
      }
    },
    {
      "cell_type": "code",
      "source": [
        "df_train.shape, df_val.shape"
      ],
      "metadata": {
        "colab": {
          "base_uri": "https://localhost:8080/"
        },
        "id": "9Ej2TNDstpzc",
        "outputId": "a7d98628-d2e7-455b-ad4f-04ddb81504e3"
      },
      "execution_count": null,
      "outputs": [
        {
          "output_type": "execute_result",
          "data": {
            "text/plain": [
              "((610, 4), (153, 4))"
            ]
          },
          "metadata": {},
          "execution_count": 61
        }
      ]
    },
    {
      "cell_type": "code",
      "source": [
        "#loads the datasets and creates dataloader objects to prepare for model\n",
        "\n",
        "\n",
        "ds_train = TweetDataset(\n",
        "        tweets=df_train.text.to_numpy(),\n",
        "        targets=df_train.target.to_numpy(),\n",
        "        tokenizer=tokenizer,\n",
        "        max_len=MAX_LEN\n",
        "    )\n",
        "\n",
        "ds_val = TweetDataset(\n",
        "        tweets=df_val.text.to_numpy(),\n",
        "        targets=df_val.target.to_numpy(),\n",
        "        tokenizer=tokenizer,\n",
        "        max_len=MAX_LEN\n",
        "    )\n",
        "\n",
        "train_data_loader = DataLoader(\n",
        "        ds_train,\n",
        "        batch_size=BATCH_SIZE,\n",
        "        num_workers=4\n",
        ")\n",
        "\n",
        "val_data_loader = DataLoader(\n",
        "        ds_val,\n",
        "        batch_size=BATCH_SIZE,\n",
        "        num_workers=4\n",
        ")\n",
        "class_names = ['negative', 'neutral', 'positive']\n"
      ],
      "metadata": {
        "id": "OCKPSW-vw2uT"
      },
      "execution_count": null,
      "outputs": []
    },
    {
      "cell_type": "code",
      "source": [
        "data = next(iter(train_data_loader))\n",
        "data.keys()"
      ],
      "metadata": {
        "colab": {
          "base_uri": "https://localhost:8080/"
        },
        "id": "JebxRcAV3YnK",
        "outputId": "93e5f82b-1f1d-4c77-cd6f-14467aa60572"
      },
      "execution_count": null,
      "outputs": [
        {
          "output_type": "stream",
          "name": "stderr",
          "text": [
            "/usr/lib/python3.10/multiprocessing/popen_fork.py:66: RuntimeWarning: os.fork() was called. os.fork() is incompatible with multithreaded code, and JAX is multithreaded, so this will likely lead to a deadlock.\n",
            "  self.pid = os.fork()\n"
          ]
        },
        {
          "output_type": "execute_result",
          "data": {
            "text/plain": [
              "dict_keys(['tweet_text', 'input_ids', 'attention_mask', 'targets'])"
            ]
          },
          "metadata": {},
          "execution_count": 63
        }
      ]
    },
    {
      "cell_type": "code",
      "source": [
        "model = SentimentClassifier(len(class_names))\n",
        "model = model.to(device)"
      ],
      "metadata": {
        "id": "yVV7WFLmUFNI"
      },
      "execution_count": null,
      "outputs": []
    },
    {
      "cell_type": "code",
      "source": [
        "input_ids = data['input_ids'].to(device)\n",
        "attention_mask = data['attention_mask'].to(device)\n",
        "\n",
        "print(input_ids.shape) # batch size x seq length\n",
        "print(attention_mask.shape) # batch size x seq length"
      ],
      "metadata": {
        "colab": {
          "base_uri": "https://localhost:8080/"
        },
        "id": "jDc7OJ_hXYtx",
        "outputId": "5bf643b6-3518-4595-bdbe-401f6527a8a5"
      },
      "execution_count": null,
      "outputs": [
        {
          "output_type": "stream",
          "name": "stdout",
          "text": [
            "torch.Size([32, 104])\n",
            "torch.Size([32, 104])\n"
          ]
        }
      ]
    },
    {
      "cell_type": "code",
      "source": [
        "\n",
        "EPOCHS = 30\n",
        "\n",
        "#prepare for epoch training by initializing the scheduler and optimizer\n",
        "\n",
        "optimizer = optim.AdamW(model.parameters(), lr=1e-5)\n",
        "total_steps = len(train_data_loader) * EPOCHS\n",
        "\n",
        "scheduler = transformers.get_linear_schedule_with_warmup(\n",
        "  optimizer,\n",
        "  num_warmup_steps=0,\n",
        "  num_training_steps=total_steps\n",
        ")\n",
        "\n",
        "loss_fn = nn.CrossEntropyLoss().to(device)"
      ],
      "metadata": {
        "id": "sKMMq1daYCug"
      },
      "execution_count": null,
      "outputs": []
    },
    {
      "cell_type": "code",
      "source": [
        "%%time\n",
        "\n",
        "history = defaultdict(list)\n",
        "best_accuracy = 0\n",
        "early_stop = 0\n",
        "\n",
        "#run through epochs until maximum accuracy is reached\n",
        "\n",
        "for epoch in range(EPOCHS):\n",
        "\n",
        "  print(f'Epoch {epoch + 1}/{EPOCHS}')\n",
        "  print('-' * 10)\n",
        "\n",
        "  train_acc, train_loss = train_epoch(\n",
        "    model,\n",
        "    train_data_loader,\n",
        "    loss_fn,\n",
        "    optimizer,\n",
        "    device,\n",
        "    len(df_train)\n",
        "  )\n",
        "\n",
        "  print(f'Train loss {train_loss} accuracy {train_acc}')\n",
        "\n",
        "  val_acc, val_loss = eval_model(\n",
        "    model,\n",
        "    val_data_loader,\n",
        "    loss_fn,\n",
        "    device,\n",
        "    len(df_val)\n",
        "  )\n",
        "\n",
        "  print(f'Val   loss {val_loss} accuracy {val_acc}')\n",
        "  print()\n",
        "\n",
        "  history['train_acc'].append(train_acc)\n",
        "  history['train_loss'].append(train_loss)\n",
        "  history['val_acc'].append(val_acc)\n",
        "  history['val_loss'].append(val_loss)\n",
        "\n",
        "  if val_acc > best_accuracy:\n",
        "    torch.save(model.state_dict(), 'best_model_state.bin')\n",
        "    best_accuracy = val_acc\n",
        "    early_stop = 0\n",
        "  else:\n",
        "      early_stop = early_stop + 1\n",
        "      if early_stop == 5:\n",
        "        break"
      ],
      "metadata": {
        "colab": {
          "base_uri": "https://localhost:8080/"
        },
        "id": "453bxjGtYPtP",
        "outputId": "c7b480de-d60e-4a1c-f23b-055ab82d0814"
      },
      "execution_count": null,
      "outputs": [
        {
          "output_type": "stream",
          "name": "stdout",
          "text": [
            "Epoch 1/30\n",
            "----------\n"
          ]
        },
        {
          "output_type": "stream",
          "name": "stderr",
          "text": [
            "/usr/lib/python3.10/multiprocessing/popen_fork.py:66: RuntimeWarning: os.fork() was called. os.fork() is incompatible with multithreaded code, and JAX is multithreaded, so this will likely lead to a deadlock.\n",
            "  self.pid = os.fork()\n"
          ]
        },
        {
          "output_type": "stream",
          "name": "stdout",
          "text": [
            "Train loss 1.0596704632043839 accuracy 0.4491803278688525\n",
            "Val   loss 0.9795843958854675 accuracy 0.6470588235294118\n",
            "\n",
            "Epoch 2/30\n",
            "----------\n",
            "Train loss 0.9054694622755051 accuracy 0.6885245901639344\n",
            "Val   loss 0.8325698494911193 accuracy 0.738562091503268\n",
            "\n",
            "Epoch 3/30\n",
            "----------\n",
            "Train loss 0.7420532405376434 accuracy 0.7868852459016393\n",
            "Val   loss 0.72137051820755 accuracy 0.7647058823529412\n",
            "\n",
            "Epoch 4/30\n",
            "----------\n",
            "Train loss 0.5454764373600482 accuracy 0.8524590163934426\n",
            "Val   loss 0.6242824077606202 accuracy 0.7581699346405228\n",
            "\n",
            "Epoch 5/30\n",
            "----------\n",
            "Train loss 0.363553287088871 accuracy 0.9081967213114754\n",
            "Val   loss 0.6412747979164124 accuracy 0.7777777777777778\n",
            "\n",
            "Epoch 6/30\n",
            "----------\n",
            "Train loss 0.3055807907134295 accuracy 0.9114754098360656\n",
            "Val   loss 0.6538906216621398 accuracy 0.7712418300653595\n",
            "\n",
            "Epoch 7/30\n",
            "----------\n",
            "Train loss 0.20831556022167205 accuracy 0.9540983606557377\n",
            "Val   loss 0.6513150811195374 accuracy 0.7843137254901961\n",
            "\n",
            "Epoch 8/30\n",
            "----------\n",
            "Train loss 0.20254490077495574 accuracy 0.9475409836065574\n",
            "Val   loss 0.6030402064323426 accuracy 0.8169934640522876\n",
            "\n",
            "Epoch 9/30\n",
            "----------\n",
            "Train loss 0.15493128523230554 accuracy 0.9606557377049181\n",
            "Val   loss 0.5929555892944336 accuracy 0.823529411764706\n",
            "\n",
            "Epoch 10/30\n",
            "----------\n",
            "Train loss 0.11116117648780346 accuracy 0.9754098360655737\n",
            "Val   loss 0.7106352150440216 accuracy 0.7647058823529412\n",
            "\n",
            "Epoch 11/30\n",
            "----------\n",
            "Train loss 0.09163744077086448 accuracy 0.9819672131147541\n",
            "Val   loss 0.6857508838176727 accuracy 0.7647058823529412\n",
            "\n",
            "Epoch 12/30\n",
            "----------\n",
            "Train loss 0.06420406186953187 accuracy 0.9918032786885246\n",
            "Val   loss 0.6665741324424743 accuracy 0.803921568627451\n",
            "\n",
            "Epoch 13/30\n",
            "----------\n",
            "Train loss 0.04738468192517757 accuracy 0.9934426229508196\n",
            "Val   loss 0.6984178721904755 accuracy 0.7908496732026145\n",
            "\n",
            "Epoch 14/30\n",
            "----------\n",
            "Train loss 0.05094486987218261 accuracy 0.9934426229508196\n",
            "Val   loss 0.8005417823791504 accuracy 0.7843137254901961\n",
            "\n",
            "CPU times: user 1min 18s, sys: 10.1 s, total: 1min 28s\n",
            "Wall time: 1min 33s\n"
          ]
        }
      ]
    },
    {
      "cell_type": "markdown",
      "source": [],
      "metadata": {
        "id": "7YSNRGcMmmWL"
      }
    },
    {
      "cell_type": "code",
      "source": [
        "#gets prediction data\n",
        "y_tweet_texts, y_pred, y_pred_probs, y_test = get_predictions(\n",
        "  model,\n",
        "  val_data_loader\n",
        ")\n",
        "\n",
        "\n",
        "#stores content in csv from numpy\n",
        "\n",
        "predicted_values_np = y_pred.numpy()\n",
        "actual_values_np = y_test.numpy()\n",
        "\n",
        "# Concatenate predicted and actual values along the second axis (columns)\n",
        "data = np.column_stack((predicted_values_np, actual_values_np))\n",
        "\n",
        "# Specify the file path where you want to save the CSV file\n",
        "file_path = \"predicted_vs_actual.csv\"\n",
        "\n",
        "# Save the concatenated values to CSV file\n",
        "np.savetxt(file_path, data, delimiter=\",\", header=\"Predicted, Actual\", comments=\"\")"
      ],
      "metadata": {
        "id": "QMXj_-UfrTdU"
      },
      "execution_count": null,
      "outputs": []
    },
    {
      "cell_type": "markdown",
      "source": [],
      "metadata": {
        "id": "q8cLgGQhIpVS"
      }
    },
    {
      "cell_type": "markdown",
      "source": [],
      "metadata": {
        "id": "6OfGUMPAldcU"
      }
    },
    {
      "cell_type": "code",
      "source": [
        "cm = confusion_matrix(y_test, y_pred)\n",
        "df_cm = pd.DataFrame(cm, index=class_names, columns=class_names)\n",
        "show_confusion_matrix(df_cm)"
      ],
      "metadata": {
        "colab": {
          "base_uri": "https://localhost:8080/",
          "height": 478
        },
        "id": "EbBomiXHsB6q",
        "outputId": "a9459018-519c-43d9-bf9e-da286bec30ca"
      },
      "execution_count": null,
      "outputs": [
        {
          "output_type": "display_data",
          "data": {
            "text/plain": [
              "<Figure size 640x480 with 2 Axes>"
            ],
            "image/png": "[encoded data removed]"
          },
          "metadata": {}
        }
      ]
    },
    {
      "cell_type": "code",
      "source": [
        "print(classification_report(y_test, y_pred, target_names=class_names))\n"
      ],
      "metadata": {
        "colab": {
          "base_uri": "https://localhost:8080/"
        },
        "id": "vaEc7DAWtVrA",
        "outputId": "772c6ddc-10c2-4f2e-fe91-344394f831bf"
      },
      "execution_count": null,
      "outputs": [
        {
          "output_type": "stream",
          "name": "stdout",
          "text": [
            "              precision    recall  f1-score   support\n",
            "\n",
            "    negative       0.93      0.71      0.81        59\n",
            "     neutral       0.84      0.76      0.80        55\n",
            "    positive       0.62      0.92      0.74        39\n",
            "\n",
            "    accuracy                           0.78       153\n",
            "   macro avg       0.80      0.80      0.78       153\n",
            "weighted avg       0.82      0.78      0.79       153\n",
            "\n"
          ]
        }
      ]
    },
    {
      "cell_type": "markdown",
      "source": [
        "##Using Bertweet Embeddings with SVM for tweet classification"
      ],
      "metadata": {
        "id": "otWKQYyoJQQ1"
      }
    },
    {
      "cell_type": "code",
      "source": [
        "from sklearn.model_selection import train_test_split\n",
        "from sklearn.svm import SVC\n",
        "from sklearn.metrics import accuracy_score\n",
        "import torch"
      ],
      "metadata": {
        "id": "fvDj4nPhgU5y"
      },
      "execution_count": null,
      "outputs": []
    },
    {
      "cell_type": "code",
      "source": [
        "#allocates 80% of data for training and 20% for validation\n",
        "df_train, df_val = train_test_split(df, test_size=0.2, random_state=RANDOM_SEED)"
      ],
      "metadata": {
        "id": "uP2r-o5KYsO4"
      },
      "execution_count": null,
      "outputs": []
    },
    {
      "cell_type": "code",
      "source": [
        "encoded_training_inputs= tokenizer(list(df_train['text']), padding=True, truncation=True, return_tensors='pt')\n",
        "encoded_validation_inputs = tokenizer(list(df_val['text']), padding=True, truncation=True, return_tensors='pt')"
      ],
      "metadata": {
        "id": "rzEz-MPJZEMq"
      },
      "execution_count": null,
      "outputs": []
    },
    {
      "cell_type": "code",
      "source": [
        "# Get embeddings on training data\n",
        "with torch.no_grad():\n",
        "    output = bert_model(**encoded_training_inputs)\n",
        "\n",
        "last_hidden_state = output.last_hidden_state\n",
        "X_train_embeddings = last_hidden_state.mean(dim=1).squeeze().numpy()\n",
        "\n",
        "# Get embeddings on validation data\n",
        "with torch.no_grad():\n",
        "    output = bert_model(**encoded_validation_inputs)\n",
        "\n",
        "last_hidden_state = output.last_hidden_state\n",
        "X_val_embeddings = last_hidden_state.mean(dim=1).squeeze().numpy()\n"
      ],
      "metadata": {
        "id": "Ra4FbUrYUDB4"
      },
      "execution_count": null,
      "outputs": []
    },
    {
      "cell_type": "code",
      "source": [
        "#Assigns 0 to negative, 1 to neutral, and 2 to positive\n",
        "df_train['target'] = df_train.sentiment.apply(sentiment_to_numeric)\n",
        "df_val['target'] = df_val.sentiment.apply(sentiment_to_numeric)"
      ],
      "metadata": {
        "id": "9xAe6bqf0_QB"
      },
      "execution_count": null,
      "outputs": []
    },
    {
      "cell_type": "code",
      "source": [
        "from sklearn.svm import SVC\n",
        "import time\n",
        "\n",
        "#using the new bertweet embeddings, we train the model\n",
        "\n",
        "start_time = time.time()\n",
        "\n",
        "model = SVC()\n",
        "model.fit(X_train_embeddings,df_train['target'])\n",
        "\n",
        "end_time = time.time()\n",
        "process_time = round(end_time-start_time,2)\n",
        "print(\"Fitting SVC took {} seconds\".format(process_time))"
      ],
      "metadata": {
        "colab": {
          "base_uri": "https://localhost:8080/"
        },
        "id": "CG_db6jezmoS",
        "outputId": "d920fefb-8d68-4c0c-f68f-e54b11dae0ca"
      },
      "execution_count": null,
      "outputs": [
        {
          "output_type": "stream",
          "name": "stdout",
          "text": [
            "Fitting SVC took 0.12 seconds\n"
          ]
        }
      ]
    },
    {
      "cell_type": "code",
      "source": [
        "#generate predictions\n",
        "predictions = model.predict(X_val_embeddings)"
      ],
      "metadata": {
        "id": "pyFUA2r075T5"
      },
      "execution_count": null,
      "outputs": []
    },
    {
      "cell_type": "code",
      "source": [
        "from sklearn.metrics import accuracy_score,confusion_matrix\n",
        "\n",
        "print(\"Accuracy of model is {}%\".format(accuracy_score(df_val['target'],predictions) * 100))"
      ],
      "metadata": {
        "colab": {
          "base_uri": "https://localhost:8080/"
        },
        "id": "5L3FRsy28Luz",
        "outputId": "e8c15877-a14d-42e7-b430-3c89867c8dab"
      },
      "execution_count": null,
      "outputs": [
        {
          "output_type": "stream",
          "name": "stdout",
          "text": [
            "Accuracy of model is 71.24183006535948%\n"
          ]
        }
      ]
    },
    {
      "cell_type": "code",
      "source": [
        "class_names = ['negative', 'neutral', 'positive']\n",
        "cm = confusion_matrix(df_val['target'], predictions)\n",
        "df_cm = pd.DataFrame(cm, index=class_names, columns=class_names)\n",
        "show_confusion_matrix(df_cm)"
      ],
      "metadata": {
        "colab": {
          "base_uri": "https://localhost:8080/",
          "height": 478
        },
        "id": "yFurZBpx8o5V",
        "outputId": "a6291773-aeee-4780-96fa-ddb45c87c1c0"
      },
      "execution_count": null,
      "outputs": [
        {
          "output_type": "display_data",
          "data": {
            "text/plain": [
              "<Figure size 640x480 with 2 Axes>"
            ],
            "image/png": "[encoded data removed]"
          },
          "metadata": {}
        }
      ]
    },
    {
      "cell_type": "code",
      "source": [
        "print(classification_report(df_val['target'], predictions, target_names=class_names))\n"
      ],
      "metadata": {
        "colab": {
          "base_uri": "https://localhost:8080/"
        },
        "id": "rkvABaeg9bH6",
        "outputId": "29076aa1-f996-48a3-9b01-28865af7db1d"
      },
      "execution_count": null,
      "outputs": [
        {
          "output_type": "stream",
          "name": "stdout",
          "text": [
            "              precision    recall  f1-score   support\n",
            "\n",
            "    negative       0.64      0.86      0.73        59\n",
            "     neutral       0.92      0.62      0.74        55\n",
            "    positive       0.67      0.62      0.64        39\n",
            "\n",
            "    accuracy                           0.71       153\n",
            "   macro avg       0.74      0.70      0.70       153\n",
            "weighted avg       0.75      0.71      0.71       153\n",
            "\n"
          ]
        }
      ]
    },
    {
      "cell_type": "code",
      "source": [
        "result_df = pd.DataFrame({'Prediction': predictions, 'Actual': df_val['target']})\n",
        "result_df.to_csv('Bert_svm_predictions.csv')"
      ],
      "metadata": {
        "id": "bzAC_g6vlhB5"
      },
      "execution_count": null,
      "outputs": []
    }
  ]
}