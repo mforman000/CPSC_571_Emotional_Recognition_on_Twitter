{
  "nbformat": 4,
  "nbformat_minor": 0,
  "metadata": {
    "colab": {
      "provenance": []
    },
    "kernelspec": {
      "name": "python3",
      "display_name": "Python 3"
    },
    "language_info": {
      "name": "python"
    }
  },
  "cells": [
    {
      "cell_type": "markdown",
      "source": [
        "#SVM Classifier with BOW Embeddings"
      ],
      "metadata": {
        "id": "dLUUm8h7PaO4"
      }
    },
    {
      "cell_type": "markdown",
      "source": [],
      "metadata": {
        "id": "MucKfFDZsMyN"
      }
    },
    {
      "cell_type": "code",
      "source": [
        "RANDOM_SEED = 11"
      ],
      "metadata": {
        "id": "lQUPJAqIbxAy"
      },
      "execution_count": null,
      "outputs": []
    },
    {
      "cell_type": "code",
      "execution_count": null,
      "metadata": {
        "id": "6Dz5FzV3Fu61",
        "colab": {
          "base_uri": "https://localhost:8080/"
        },
        "outputId": "39d4dbd0-fe93-4c51-a072-2631fcbc6acc"
      },
      "outputs": [
        {
          "output_type": "stream",
          "name": "stderr",
          "text": [
            "[nltk_data] Downloading package stopwords to /root/nltk_data...\n",
            "[nltk_data]   Unzipping corpora/stopwords.zip.\n",
            "[nltk_data] Downloading package punkt to /root/nltk_data...\n",
            "[nltk_data]   Unzipping tokenizers/punkt.zip.\n",
            "[nltk_data] Downloading package wordnet to /root/nltk_data...\n"
          ]
        },
        {
          "output_type": "execute_result",
          "data": {
            "text/plain": [
              "True"
            ]
          },
          "metadata": {},
          "execution_count": 2
        }
      ],
      "source": [
        "import numpy as np\n",
        "import pandas as pd\n",
        "import nltk\n",
        "from nltk.corpus import stopwords\n",
        "import matplotlib.pyplot as plt\n",
        "from nltk.stem import WordNetLemmatizer\n",
        "from sklearn.feature_extraction.text import CountVectorizer\n",
        "import pickle\n",
        "import time\n",
        "import re\n",
        "from sklearn.model_selection import train_test_split\n",
        "from sklearn.svm import SVC\n",
        "from sklearn.metrics import accuracy_score\n",
        "import torch\n",
        "from sklearn.metrics import confusion_matrix, classification_report, recall_score, f1_score, accuracy_score, average_precision_score, precision_score\n",
        "import seaborn as sns\n",
        "\n",
        "nltk.download('stopwords')\n",
        "nltk.download('punkt')\n",
        "nltk.download('wordnet')\n"
      ]
    },
    {
      "cell_type": "code",
      "source": [
        "def show_confusion_matrix(confusion_matrix):\n",
        "  hmap = sns.heatmap(confusion_matrix, annot=True, fmt=\"d\", cmap=\"Blues\")\n",
        "  hmap.yaxis.set_ticklabels(hmap.yaxis.get_ticklabels(), rotation=0, ha='right')\n",
        "  hmap.xaxis.set_ticklabels(hmap.xaxis.get_ticklabels(), rotation=30, ha='right')\n",
        "  plt.ylabel('True sentiment')\n",
        "  plt.xlabel('Predicted sentiment');"
      ],
      "metadata": {
        "id": "LroVH7ewQSaz"
      },
      "execution_count": null,
      "outputs": []
    },
    {
      "cell_type": "code",
      "source": [
        "\n",
        "df = pd.read_csv('weather.csv')[['_unit_id','what_emotion_does_the_author_express_specifically_about_the_weather', 'tweet_text']]\n",
        "df.columns = ['id', 'sentiment', 'text']\n",
        "\n",
        "df = df[df['sentiment'].isin(['Positive', 'Negative' ,'Neutral / author is just sharing information'])]\n"
      ],
      "metadata": {
        "id": "fWnyF2WTbG4t"
      },
      "execution_count": null,
      "outputs": []
    },
    {
      "cell_type": "code",
      "source": [
        "positiveFD = nltk.FreqDist(word for text in df[df[\"sentiment\"] == 2][\"text\"] for word in text.lower().split())\n",
        "negativeFD = nltk.FreqDist(word  for text in df[df[\"sentiment\"] == 0][\"text\"] for word in text.lower().split())\n",
        "neutralDF = nltk.FreqDist(word  for text in df[df[\"sentiment\"] == 1][\"text\"] for word in text.lower().split())"
      ],
      "metadata": {
        "id": "6ugl9CC-tuit"
      },
      "execution_count": null,
      "outputs": []
    },
    {
      "cell_type": "code",
      "source": [
        "plt.subplots(figsize=(8,6))\n",
        "plt.title(\"Most Used Words in Positive Tweets\")\n",
        "positiveFD.plot(50)\n",
        "plt.show()"
      ],
      "metadata": {
        "colab": {
          "base_uri": "https://localhost:8080/",
          "height": 540
        },
        "id": "QoB5sF5Wt6aE",
        "outputId": "79cd6d92-d401-4f54-cf08-23a451650675"
      },
      "execution_count": null,
      "outputs": [
        {
          "output_type": "display_data",
          "data": {
            "text/plain": [
              "<Figure size 800x600 with 1 Axes>"
            ],
            "image/png": "[encoded data removed]"
          },
          "metadata": {}
        }
      ]
    },
    {
      "cell_type": "code",
      "source": [
        "cleanedData = []\n",
        "\n",
        "lemma = WordNetLemmatizer()\n",
        "swords = stopwords.words(\"english\")\n",
        "for text in df[\"text\"]:\n",
        "\n",
        "    # Cleaning links\n",
        "    text = re.sub(r'http\\S+', '', text)\n",
        "\n",
        "    # Cleaning everything except alphabetical and numerical characters\n",
        "    text = re.sub(\"[^a-zA-Z0-9]\",\" \",text)\n",
        "\n",
        "    # Tokenizing and lemmatizing\n",
        "    text = nltk.word_tokenize(text.lower())\n",
        "    text = [lemma.lemmatize(word) for word in text]\n",
        "\n",
        "    # Removing stopwords\n",
        "    text = [word for word in text if word not in swords]\n",
        "\n",
        "    # Joining\n",
        "    text = \" \".join(text)\n",
        "\n",
        "    cleanedData.append(text)"
      ],
      "metadata": {
        "id": "jQNukyz8eP3n"
      },
      "execution_count": null,
      "outputs": []
    },
    {
      "cell_type": "code",
      "source": [
        "\n",
        "sentiment_to_numeric = lambda sentiment: {'negative': 0,  'positive': 2}.get(sentiment.lower(), 1)\n",
        "df[\"sentiment\"].value_counts()\n",
        "df['target'] = df.sentiment.apply(sentiment_to_numeric)"
      ],
      "metadata": {
        "id": "JS9Tt8fSbPim"
      },
      "execution_count": null,
      "outputs": []
    },
    {
      "cell_type": "code",
      "source": [
        "vectorizer = CountVectorizer(max_features=10000)\n",
        "BOW = vectorizer.fit_transform(cleanedData)"
      ],
      "metadata": {
        "id": "QDxs3BChgFh1"
      },
      "execution_count": null,
      "outputs": []
    },
    {
      "cell_type": "code",
      "source": [
        "from sklearn.model_selection import train_test_split\n",
        "x_train,x_test,y_train,y_test = train_test_split(BOW,np.asarray(df[\"target\"]))"
      ],
      "metadata": {
        "id": "JciznVKBgdnu"
      },
      "execution_count": null,
      "outputs": []
    },
    {
      "cell_type": "code",
      "source": [
        "from sklearn.svm import SVC\n",
        "start_time = time.time()\n",
        "\n",
        "model = SVC()\n",
        "model.fit(x_train,y_train)\n",
        "\n",
        "end_time = time.time()\n",
        "process_time = round(end_time-start_time,2)\n",
        "print(\"Fitting SVC took {} seconds\".format(process_time))"
      ],
      "metadata": {
        "colab": {
          "base_uri": "https://localhost:8080/"
        },
        "id": "dSe5XsxzhXal",
        "outputId": "f47c50e1-2eaf-46b0-e802-ff2576dbe1ff"
      },
      "execution_count": null,
      "outputs": [
        {
          "output_type": "stream",
          "name": "stdout",
          "text": [
            "Fitting SVC took 0.07 seconds\n"
          ]
        }
      ]
    },
    {
      "cell_type": "code",
      "source": [
        "class_names = ['negative', 'neutral', 'positive']\n",
        "\n",
        "predictions = model.predict(x_test)\n",
        "print(classification_report(y_test, predictions, target_names=class_names))\n"
      ],
      "metadata": {
        "colab": {
          "base_uri": "https://localhost:8080/"
        },
        "id": "aM_aWHMvhhuX",
        "outputId": "56e85a4f-3b57-4d56-aa40-012e5ce8204e"
      },
      "execution_count": null,
      "outputs": [
        {
          "output_type": "stream",
          "name": "stdout",
          "text": [
            "              precision    recall  f1-score   support\n",
            "\n",
            "    negative       0.54      0.79      0.64        67\n",
            "     neutral       0.78      0.66      0.72        71\n",
            "    positive       0.64      0.40      0.49        53\n",
            "\n",
            "    accuracy                           0.63       191\n",
            "   macro avg       0.65      0.62      0.62       191\n",
            "weighted avg       0.66      0.63      0.63       191\n",
            "\n"
          ]
        }
      ]
    },
    {
      "cell_type": "code",
      "source": [
        "cm = confusion_matrix(y_test, predictions)\n",
        "df_cm = pd.DataFrame(cm, index=class_names, columns=class_names)\n",
        "show_confusion_matrix(df_cm)"
      ],
      "metadata": {
        "colab": {
          "base_uri": "https://localhost:8080/",
          "height": 478
        },
        "id": "BmY7uIy2QbOy",
        "outputId": "edba8ec6-71a0-496e-848c-d6f671106f09"
      },
      "execution_count": null,
      "outputs": [
        {
          "output_type": "display_data",
          "data": {
            "text/plain": [
              "<Figure size 640x480 with 2 Axes>"
            ],
            "image/png": "[encoded data removed]"
          },
          "metadata": {}
        }
      ]
    },
    {
      "cell_type": "code",
      "source": [
        "result_df = pd.DataFrame({'Prediction': predictions, 'Actual': y_test})\n",
        "result_df.to_csv('svm_predictions.csv')"
      ],
      "metadata": {
        "id": "3qHBbicWQ6J_"
      },
      "execution_count": null,
      "outputs": []
    },
    {
      "cell_type": "code",
      "source": [
        "import pandas as pd\n",
        "from nltk.tokenize import word_tokenize\n",
        "from collections import Counter\n",
        "\n",
        "\n",
        "# Function to clean text\n",
        "def clean_text(text):\n",
        "    # Remove non-alphanumeric characters and symbols\n",
        "    cleaned_text = re.sub(r'[^A-Za-z\\s]', '', text)\n",
        "    return cleaned_text\n",
        "\n",
        "# Clean the text in the DataFrame\n",
        "df['text'] = df['text'].apply(clean_text)\n",
        "\n",
        "# Tokenize the tweets\n",
        "df['tokens'] = df['text'].apply(word_tokenize)\n",
        "\n",
        "# Separate tweets into positive, negative, and neutral categories\n",
        "positive_tweets = df[df['target'] == 2]\n",
        "negative_tweets = df[df['target'] == 1]\n",
        "neutral_tweets = df[df['target'] == 0]\n",
        "\n",
        "# Count the frequency of words in each category\n",
        "positive_word_counts = Counter([word for tokens in positive_tweets['tokens'] for word in tokens])\n",
        "negative_word_counts = Counter([word for tokens in negative_tweets['tokens'] for word in tokens])\n",
        "neutral_word_counts = Counter([word for tokens in neutral_tweets['tokens'] for word in tokens])\n",
        "\n",
        "# Get the most frequent words in each category\n",
        "most_common_positive = positive_word_counts.most_common(50)\n",
        "most_common_negative = negative_word_counts.most_common(50)\n",
        "most_common_neutral = neutral_word_counts.most_common(50)\n",
        "\n",
        "print(\"Most frequent words in positive tweets:\", most_common_positive)\n",
        "print(\"Most frequent words in negative tweets:\", most_common_negative)\n",
        "print(\"Most frequent words in neutral tweets:\", most_common_neutral)\n"
      ],
      "metadata": {
        "colab": {
          "base_uri": "https://localhost:8080/"
        },
        "id": "hTfwrYZ-trYf",
        "outputId": "acf04a05-e63a-4420-ad40-4b884a6ab039"
      },
      "execution_count": null,
      "outputs": [
        {
          "output_type": "stream",
          "name": "stdout",
          "text": [
            "Most frequent words in positive tweets: [('the', 131), ('weather', 101), ('mention', 97), ('a', 64), ('in', 63), ('is', 58), ('to', 58), ('I', 56), ('and', 49), ('for', 47), ('sunny', 38), ('this', 31), ('of', 29), ('sunshine', 29), ('link', 27), ('be', 26), ('on', 24), ('it', 23), ('at', 23), ('its', 23), ('The', 22), ('nice', 22), ('day', 21), ('out', 20), ('RT', 20), ('here', 19), ('you', 19), ('beautiful', 19), ('like', 16), ('storm', 16), ('my', 16), ('outside', 15), ('good', 15), ('so', 14), ('with', 14), ('Its', 13), ('degrees', 13), ('was', 12), ('today', 12), ('great', 12), ('all', 12), ('me', 12), ('warm', 12), ('have', 12), ('love', 12), ('but', 11), ('perfect', 11), ('weekend', 11), ('night', 10), ('enjoy', 10)]\n",
            "Most frequent words in negative tweets: [('link', 117), ('F', 100), ('mention', 80), ('the', 78), ('to', 51), ('in', 48), ('weather', 48), ('Wind', 47), ('Humidity', 46), ('at', 45), ('Feels', 44), ('and', 43), ('MPH', 40), ('WEATHER', 38), ('pm', 38), ('RT', 38), ('Weather', 37), ('for', 36), ('on', 31), ('a', 30), ('of', 29), ('PM', 28), ('is', 27), ('May', 22), ('Severe', 22), ('storm', 21), ('Thunderstorm', 20), ('until', 19), ('am', 18), ('be', 17), ('CDT', 16), ('it', 16), ('Warning', 16), ('County', 15), ('by', 14), ('you', 14), ('mph', 14), ('this', 13), ('from', 12), ('In', 11), ('C', 11), ('Rain', 11), ('sunny', 11), ('issued', 10), ('today', 10), ('out', 10), ('AM', 10), ('expiring', 9), ('NWS', 9), ('I', 9)]\n",
            "Most frequent words in neutral tweets: [('the', 116), ('weather', 101), ('mention', 91), ('I', 81), ('to', 80), ('in', 68), ('is', 59), ('a', 54), ('and', 54), ('this', 44), ('its', 38), ('my', 38), ('out', 38), ('hot', 35), ('be', 32), ('on', 32), ('RT', 30), ('for', 29), ('outside', 29), ('Its', 29), ('so', 28), ('it', 27), ('you', 24), ('of', 24), ('me', 23), ('that', 21), ('just', 21), ('storm', 21), ('day', 20), ('cold', 20), ('at', 19), ('with', 19), ('like', 18), ('here', 18), ('all', 18), ('link', 18), ('degrees', 17), ('rainy', 16), ('as', 16), ('freezing', 16), ('too', 16), ('was', 16), ('not', 15), ('have', 14), ('up', 14), ('rain', 14), ('Im', 13), ('but', 13), ('The', 11), ('bad', 11)]\n"
          ]
        }
      ]
    }
  ]
}